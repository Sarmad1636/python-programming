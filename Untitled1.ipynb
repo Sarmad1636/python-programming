{
 "cells": [
  {
   "cell_type": "code",
   "execution_count": 8,
   "metadata": {},
   "outputs": [
    {
     "name": "stdout",
     "output_type": "stream",
     "text": [
      "Twinkle, twinkle, little star\n",
      "    How I wonder what you are\n",
      "        up above the world so high\n",
      "        like a diamond in the sky\n",
      "Twinkle, twinkle, little star\n",
      "    How I wonder what you are\n"
     ]
    }
   ],
   "source": [
    "name= \"Twinkle, twinkle, little star\"\n",
    "thnx= \"    How I wonder what you are\"\n",
    "Name= \"        up above the world so high\"\n",
    "nAme= \"        like a diamond in the sky\"\n",
    "print (name)\n",
    "print (thnx)\n",
    "print (Name)\n",
    "print (nAme)\n",
    "print (name)\n",
    "print (thnx)"
   ]
  },
  {
   "cell_type": "code",
   "execution_count": 1,
   "metadata": {},
   "outputs": [
    {
     "name": "stdout",
     "output_type": "stream",
     "text": [
      "Python version\n",
      "3.7.4 (default, Aug 13 2019, 20:35:49) \n",
      "[GCC 7.3.0]\n",
      "Version info.\n",
      "sys.version_info(major=3, minor=7, micro=4, releaselevel='final', serial=0)\n"
     ]
    }
   ],
   "source": [
    "import sys\n",
    "print(\"Python version\")\n",
    "print (sys.version)\n",
    "print(\"Version info.\")\n",
    "print (sys.version_info)"
   ]
  },
  {
   "cell_type": "code",
   "execution_count": 4,
   "metadata": {},
   "outputs": [
    {
     "name": "stdout",
     "output_type": "stream",
     "text": [
      "current date and time : \n",
      "2019-11-11/08/19 13:06:56\n"
     ]
    }
   ],
   "source": [
    "import datetime\n",
    "now = datetime.datetime.now()\n",
    "print (\"current date and time : \")\n",
    "print (now.strftime(\"%Y-%m-%D %H:%M:%S\"))\n"
   ]
  },
  {
   "cell_type": "code",
   "execution_count": 6,
   "metadata": {},
   "outputs": [
    {
     "name": "stdout",
     "output_type": "stream",
     "text": [
      "Enter the value of radius2.1\n",
      "The area of the Circle with radius2.1is : 13.854423602330987\n"
     ]
    }
   ],
   "source": [
    "from math import pi\n",
    "r = float(input(\"Enter the value of radius\"))\n",
    "print (\"The area of the Circle with radius\" + str(r) + \"is : \" + str(pi* r**2))"
   ]
  },
  {
   "cell_type": "code",
   "execution_count": 4,
   "metadata": {},
   "outputs": [
    {
     "name": "stdout",
     "output_type": "stream",
     "text": [
      "Enter your first name : Sarmad\n",
      "Enter your last name : Khalid\n",
      "Khalid Sarmad\n"
     ]
    }
   ],
   "source": [
    "firstname = input(\"Enter your first name : \")\n",
    "lastname = input(\"Enter your last name : \")\n",
    "print (lastname + \" \" + firstname)"
   ]
  },
  {
   "cell_type": "code",
   "execution_count": 11,
   "metadata": {},
   "outputs": [
    {
     "name": "stdout",
     "output_type": "stream",
     "text": [
      "Enter the first value : 55\n",
      "Enter the second value : 45\n",
      "100.0\n"
     ]
    }
   ],
   "source": [
    "firstvalue = float(input(\"Enter the first value : \" ))\n",
    "secondvalue = float(input(\"Enter the second value : \" ))\n",
    "print (firstvalue+secondvalue)"
   ]
  },
  {
   "cell_type": "code",
   "execution_count": null,
   "metadata": {},
   "outputs": [],
   "source": []
  }
 ],
 "metadata": {
  "kernelspec": {
   "display_name": "Python 3",
   "language": "python",
   "name": "python3"
  },
  "language_info": {
   "codemirror_mode": {
    "name": "ipython",
    "version": 3
   },
   "file_extension": ".py",
   "mimetype": "text/x-python",
   "name": "python",
   "nbconvert_exporter": "python",
   "pygments_lexer": "ipython3",
   "version": "3.7.4"
  }
 },
 "nbformat": 4,
 "nbformat_minor": 2
}
