{
 "cells": [
  {
   "cell_type": "code",
   "execution_count": 21,
   "metadata": {},
   "outputs": [
    {
     "name": "stdout",
     "output_type": "stream",
     "text": [
      "enter your english marks: 80\n",
      "enter your maths marks: 72\n",
      "enter your islamiat marks: 79\n",
      "enter your physics marks: 81\n",
      "enter your chemistry marks: 69\n",
      "\n",
      "your percentage is :  76.2\n",
      "\n",
      "Grade A\n"
     ]
    }
   ],
   "source": [
    "e = int(input(\"enter your english marks: \"))\n",
    "m = int(input(\"enter your maths marks: \"))\n",
    "i = int(input(\"enter your islamiat marks: \"))\n",
    "p = int(input(\"enter your physics marks: \"))\n",
    "c = int(input(\"enter your chemistry marks: \"))\n",
    "t= (e+m+i+p+c)*100\n",
    "per = t/500\n",
    "print(\"\\nyour percentage is : \", per)\n",
    "\n",
    "if per >= 80 and per <=100 :\n",
    "    print (\"\\nGrade A+\")\n",
    "elif per >= 70 and per <=80 :\n",
    "    print (\"\\nGrade A\")\n",
    "elif per >= 60 and per <=7:\n",
    "    print (\"\\nGrade B\")\n",
    "elif per >= 50 and per <=60 :\n",
    "    print (\"\\nGrade C\")\n",
    "elif per >= 33 and per <=50 :\n",
    "    print (\"\\nGrade D\")\n",
    "elif per >= 0 and per <=33 :\n",
    "    print (\"\\nFail\")"
   ]
  },
  {
   "cell_type": "code",
   "execution_count": 16,
   "metadata": {},
   "outputs": [
    {
     "name": "stdout",
     "output_type": "stream",
     "text": [
      "Enter any Number: 3\n",
      "Number is odd\n"
     ]
    }
   ],
   "source": [
    "num  = int(input(\"Enter any Number: \"))\n",
    "a=num\n",
    "if a==0:\n",
    "    print(\"Number is even\")\n",
    "else:\n",
    "    print(\"Number is odd\")"
   ]
  },
  {
   "cell_type": "code",
   "execution_count": 17,
   "metadata": {},
   "outputs": [
    {
     "name": "stdout",
     "output_type": "stream",
     "text": [
      "8\n"
     ]
    }
   ],
   "source": [
    "lst = [2,3,4,5,6,7,8,9]\n",
    "print(len(lst))"
   ]
  },
  {
   "cell_type": "code",
   "execution_count": 18,
   "metadata": {},
   "outputs": [
    {
     "name": "stdout",
     "output_type": "stream",
     "text": [
      "44\n"
     ]
    }
   ],
   "source": [
    "lst = [2,3,4,5,6,7,8,9]\n",
    "print(sum(lst))"
   ]
  },
  {
   "cell_type": "code",
   "execution_count": 19,
   "metadata": {},
   "outputs": [
    {
     "name": "stdout",
     "output_type": "stream",
     "text": [
      "9\n"
     ]
    }
   ],
   "source": [
    "lst = [2,3,4,5,6,7,8,9]\n",
    "print(max(lst))"
   ]
  },
  {
   "cell_type": "code",
   "execution_count": 20,
   "metadata": {},
   "outputs": [
    {
     "name": "stdout",
     "output_type": "stream",
     "text": [
      "[1, 1, 2, 3]\n"
     ]
    }
   ],
   "source": [
    "a = [1, 1, 2, 3, 5, 8, 13, 21, 34, 55, 89]\n",
    "print(a[0:4])"
   ]
  },
  {
   "cell_type": "code",
   "execution_count": null,
   "metadata": {},
   "outputs": [],
   "source": []
  }
 ],
 "metadata": {
  "kernelspec": {
   "display_name": "Python 3",
   "language": "python",
   "name": "python3"
  }
 },
 "nbformat": 4,
 "nbformat_minor": 2
}
